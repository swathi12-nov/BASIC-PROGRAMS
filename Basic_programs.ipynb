{
  "nbformat": 4,
  "nbformat_minor": 0,
  "metadata": {
    "colab": {
      "name": "Basic programs.ipynb",
      "provenance": [],
      "authorship_tag": "ABX9TyNM1pBbbs7eQe1DH6l8eARW",
      "include_colab_link": true
    },
    "kernelspec": {
      "name": "python3",
      "display_name": "Python 3"
    },
    "language_info": {
      "name": "python"
    }
  },
  "cells": [
    {
      "cell_type": "markdown",
      "metadata": {
        "id": "view-in-github",
        "colab_type": "text"
      },
      "source": [
        "<a href=\"https://colab.research.google.com/github/swathi12-nov/BASIC-PROGRAMS/blob/main/Basic_programs.ipynb\" target=\"_parent\"><img src=\"https://colab.research.google.com/assets/colab-badge.svg\" alt=\"Open In Colab\"/></a>"
      ]
    },
    {
      "cell_type": "markdown",
      "source": [
        "FINDING THE FACTORIAL OF A GIVEN NUMBER"
      ],
      "metadata": {
        "id": "kalzPnGS46eI"
      }
    },
    {
      "cell_type": "code",
      "execution_count": null,
      "metadata": {
        "id": "L7KhxHMG4wcj"
      },
      "outputs": [],
      "source": [
        "# Python program to find the factorial of a number provided by the user.\n",
        "\n",
        "# change the value for a different result\n",
        "num = 7\n",
        "\n",
        "# To take input from the user\n",
        "#num = int(input(\"Enter a number: \"))\n",
        "\n",
        "factorial = 1\n",
        "\n",
        "# check if the number is negative, positive or zero\n",
        "if num < 0:\n",
        "   print(\"Sorry, factorial does not exist for negative numbers\")\n",
        "elif num == 0:\n",
        "   print(\"The factorial of 0 is 1\")\n",
        "else:\n",
        "   for i in range(1,num + 1):\n",
        "       factorial = factorial*i\n",
        "   print(\"The factorial of\",num,\"is\",factorial)"
      ]
    },
    {
      "cell_type": "markdown",
      "source": [
        "Fibonnaci series in python"
      ],
      "metadata": {
        "id": "KlJwRD3m5kNx"
      }
    },
    {
      "cell_type": "code",
      "source": [
        "# Program to display the Fibonacci sequence up to n-th term\n",
        "\n",
        "nterms = int(input(\"How many terms? \"))\n",
        "\n",
        "# first two terms\n",
        "n1, n2 = 0, 1\n",
        "count = 0\n",
        "\n",
        "# check if the number of terms is valid\n",
        "if nterms <= 0:\n",
        "   print(\"Please enter a positive integer\")\n",
        "# if there is only one term, return n1\n",
        "elif nterms == 1:\n",
        "   print(\"Fibonacci sequence upto\",nterms,\":\")\n",
        "   print(n1)\n",
        "# generate fibonacci sequence\n",
        "else:\n",
        "   print(\"Fibonacci sequence:\")\n",
        "   while count < nterms:\n",
        "       print(n1)\n",
        "       nth = n1 + n2\n",
        "       # update values\n",
        "       n1 = n2\n",
        "       n2 = nth\n",
        "       count += 1"
      ],
      "metadata": {
        "colab": {
          "base_uri": "https://localhost:8080/"
        },
        "id": "x9mmAv1S5Pyr",
        "outputId": "d58cba43-4edc-4c49-eee5-b262b76a7ba5"
      },
      "execution_count": 2,
      "outputs": [
        {
          "output_type": "stream",
          "name": "stdout",
          "text": [
            "How many terms? 5\n",
            "Fibonacci sequence:\n",
            "0\n",
            "1\n",
            "1\n",
            "2\n",
            "3\n"
          ]
        }
      ]
    },
    {
      "cell_type": "markdown",
      "source": [
        "Find the simple intrest in python"
      ],
      "metadata": {
        "id": "LsaW3Cni57eN"
      }
    },
    {
      "cell_type": "code",
      "source": [
        "# Python3 program to find simple interest\n",
        "# for given principal amount, time and\n",
        "# rate of interest.\n",
        "\n",
        "\n",
        "def simple_interest(p,t,r):\n",
        "\tprint('The principal is', p)\n",
        "\tprint('The time period is', t)\n",
        "\tprint('The rate of interest is',r)\n",
        "\t\n",
        "\tsi = (p * t * r)/100\n",
        "\t\n",
        "\tprint('The Simple Interest is', si)\n",
        "\treturn si\n",
        "\t\n",
        "# Driver code\n",
        "simple_interest(8, 6, 8)\n"
      ],
      "metadata": {
        "colab": {
          "base_uri": "https://localhost:8080/"
        },
        "id": "TtjfFWdR5gVq",
        "outputId": "a55faa61-d93c-4b72-d8f2-25a2018dca27"
      },
      "execution_count": 1,
      "outputs": [
        {
          "output_type": "stream",
          "name": "stdout",
          "text": [
            "The principal is 8\n",
            "The time period is 6\n",
            "The rate of interest is 8\n",
            "The Simple Interest is 3.84\n"
          ]
        },
        {
          "output_type": "execute_result",
          "data": {
            "text/plain": [
              "3.84"
            ]
          },
          "metadata": {},
          "execution_count": 1
        }
      ]
    },
    {
      "cell_type": "markdown",
      "source": [
        "Armstrong number"
      ],
      "metadata": {
        "id": "owkGlhLu8GIo"
      }
    },
    {
      "cell_type": "code",
      "source": [
        "# Python program to determine whether\n",
        "# the number is Armstrong number or not\n",
        "\n",
        "# Function to calculate x raised to\n",
        "# the power y\n",
        "def power(x, y):\n",
        "\t\n",
        "\tif y == 0:\n",
        "\t\treturn 1\n",
        "\tif y % 2 == 0:\n",
        "\t\treturn power(x, y // 2) * power(x, y // 2)\n",
        "\t\t\n",
        "\treturn x * power(x, y // 2) * power(x, y // 2)\n",
        "\n",
        "# Function to calculate order of the number\n",
        "def order(x):\n",
        "\n",
        "\t# Variable to store of the number\n",
        "\tn = 0\n",
        "\twhile (x != 0):\n",
        "\t\tn = n + 1\n",
        "\t\tx = x // 10\n",
        "\t\t\n",
        "\treturn n\n",
        "\n",
        "# Function to check whether the given\n",
        "# number is Armstrong number or not\n",
        "def isArmstrong(x):\n",
        "\t\n",
        "\tn = order(x)\n",
        "\ttemp = x\n",
        "\tsum1 = 0\n",
        "\t\n",
        "\twhile (temp != 0):\n",
        "\t\tr = temp % 10\n",
        "\t\tsum1 = sum1 + power(r, n)\n",
        "\t\ttemp = temp // 10\n",
        "\n",
        "\t# If condition satisfies\n",
        "\treturn (sum1 == x)\n",
        "\n",
        "# Driver code\n",
        "x = int(input(\"Enter a number\"))\n",
        "print(isArmstrong(x))\n",
        "\n",
        "x = int(input(\"Enter a number\"))\n",
        "print(isArmstrong(x))\n"
      ],
      "metadata": {
        "colab": {
          "base_uri": "https://localhost:8080/"
        },
        "id": "szDu2vn97NwC",
        "outputId": "6dc1f306-758f-436c-de2e-d82417a67667"
      },
      "execution_count": 4,
      "outputs": [
        {
          "output_type": "stream",
          "name": "stdout",
          "text": [
            "Enter a number153\n",
            "True\n",
            "Enter a number567\n",
            "False\n"
          ]
        }
      ]
    },
    {
      "cell_type": "markdown",
      "source": [
        "To check given number is perfect\n"
      ],
      "metadata": {
        "id": "OPuCaQnL8TMK"
      }
    },
    {
      "cell_type": "code",
      "source": [
        "# Python3 code to check if a given\n",
        "# number is perfect or not\n",
        "\n",
        "# Returns true if n is perfect\n",
        "def isPerfect( n ):\n",
        "\t\n",
        "\t# To store sum of divisors\n",
        "\tsum = 1\n",
        "\t\n",
        "\t# Find all divisors and add them\n",
        "\ti = 2\n",
        "\twhile i * i <= n:\n",
        "\t\tif n % i == 0:\n",
        "\t\t\tsum = sum + i + n/i\n",
        "\t\ti += 1\n",
        "\t\n",
        "\t# If sum of divisors is equal to\n",
        "\t# n, then n is a perfect number\n",
        "\t\n",
        "\treturn (True if sum == n and n!=1 else False)\n",
        "\n",
        "# Driver program\n",
        "print(\"Below are all perfect numbers till 10000\")\n",
        "n = 2\n",
        "for n in range (10000):\n",
        "\tif isPerfect (n):\n",
        "\t\tprint(n , \" is a perfect number\")\n",
        "\n"
      ],
      "metadata": {
        "colab": {
          "base_uri": "https://localhost:8080/"
        },
        "id": "xWqJsCSO7j2J",
        "outputId": "1d723302-fe1b-4654-f9d9-0ce9c7fe9ee5"
      },
      "execution_count": 5,
      "outputs": [
        {
          "output_type": "stream",
          "name": "stdout",
          "text": [
            "Below are all perfect numbers till 10000\n",
            "6  is a perfect number\n",
            "28  is a perfect number\n",
            "496  is a perfect number\n",
            "8128  is a perfect number\n"
          ]
        }
      ]
    },
    {
      "cell_type": "markdown",
      "source": [
        "ASCII CODE"
      ],
      "metadata": {
        "id": "zbc1pr_P87vd"
      }
    },
    {
      "cell_type": "code",
      "source": [
        "print(\"Enter a String: \", end=\"\")\n",
        "text = input()\n",
        "textlength = len(text)\n",
        "for char in text:\n",
        "\tascii = ord(char)\n",
        "\tprint(char, \"\\t\", ascii)\n"
      ],
      "metadata": {
        "colab": {
          "base_uri": "https://localhost:8080/"
        },
        "id": "dquwJpFU8kPp",
        "outputId": "9c593fd0-7c26-457a-ac71-2093c476683d"
      },
      "execution_count": 6,
      "outputs": [
        {
          "output_type": "stream",
          "name": "stdout",
          "text": [
            "Enter a String: SWATHI\n",
            "S \t 83\n",
            "W \t 87\n",
            "A \t 65\n",
            "T \t 84\n",
            "H \t 72\n",
            "I \t 73\n"
          ]
        }
      ]
    },
    {
      "cell_type": "markdown",
      "source": [
        "GIVEN NUMBER IS PRIME OR NOT"
      ],
      "metadata": {
        "id": "CRA3o9Zm9PGZ"
      }
    },
    {
      "cell_type": "code",
      "source": [
        "# Python program to check if\n",
        "# given number is prime or not\n",
        "\n",
        "num = 11\n",
        "\n",
        "# If given number is greater than 1\n",
        "if num > 1:\n",
        "\n",
        "\t# Iterate from 2 to n / 2\n",
        "\tfor i in range(2, int(num/2)+1):\n",
        "\n",
        "\t\t# If num is divisible by any number between\n",
        "\t\t# 2 and n / 2, it is not prime\n",
        "\t\tif (num % i) == 0:\n",
        "\t\t\tprint(num, \"is not a prime number\")\n",
        "\t\t\tbreak\n",
        "\telse:\n",
        "\t\tprint(num, \"is a prime number\")\n",
        "\n",
        "else:\n",
        "\tprint(num, \"is not a prime number\")\n"
      ],
      "metadata": {
        "colab": {
          "base_uri": "https://localhost:8080/"
        },
        "id": "kX24f5uf9ASf",
        "outputId": "2bac1647-3b88-43f5-99a2-72adcd9c598d"
      },
      "execution_count": 7,
      "outputs": [
        {
          "output_type": "stream",
          "name": "stdout",
          "text": [
            "11 is a prime number\n"
          ]
        }
      ]
    },
    {
      "cell_type": "code",
      "source": [
        ""
      ],
      "metadata": {
        "id": "uOaRFhku9ZSd"
      },
      "execution_count": null,
      "outputs": []
    }
  ]
}